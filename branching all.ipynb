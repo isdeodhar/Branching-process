{
 "cells": [
  {
   "cell_type": "code",
   "execution_count": 3,
   "id": "c4eb63b3",
   "metadata": {},
   "outputs": [],
   "source": [
    "import numpy as np\n",
    "import pandas as pd\n",
    "import matplotlib.pylab as plt\n",
    "from matplotlib import colors as mcolors"
   ]
  },
  {
   "cell_type": "code",
   "execution_count": 34,
   "id": "a90549ac",
   "metadata": {},
   "outputs": [
    {
     "name": "stdout",
     "output_type": "stream",
     "text": [
      "[1, 5, 21, 78, 316, 1255, 5095, 20631, 82327, 329806]\n",
      "expectation of 10th generation= 1048576\n",
      "Variance of 10th generation= 366503526400.0\n",
      "Probability of extinction: 0.023\n"
     ]
    }
   ],
   "source": [
    "# simulate a poisson(lambda) branching process over n generations\n",
    "# return list of population size at each generation\n",
    "def branching_process(lam, gen):\n",
    "    Z = [1]\n",
    "    for i in range(1,gen):\n",
    "        x = 0\n",
    "        if Z[i-1] > 0:\n",
    "            for i in range(Z[i-1]):\n",
    "                x += np.random.poisson(lam)\n",
    "        Z.append(x)\n",
    "    return Z\n",
    "\n",
    "print(branching_process(4,10))\n",
    "mean=pow(4,10)\n",
    "print('expectation of 10th generation=', mean)\n",
    "variance = pow(4,9)*((pow(4,10)-1)*4)/(4-1)\n",
    "print('Variance of 10th generation=',variance)\n",
    "\n",
    "#determine whether a family goes extinct\n",
    "#if final generation is size 0\n",
    "#return True\n",
    "def ifextinct(Z):\n",
    "    final_pop = Z[len(Z)-1]\n",
    "    if final_pop == 0:\n",
    "        return True\n",
    "    return False\n",
    " \n",
    "# run 1000 branching processes\n",
    "# return proportion of extinct populations \n",
    "# to approximate extinction probability\n",
    "def prob_extinction(lam):\n",
    "    n = 10\n",
    "    trials = 1000\n",
    "    results = 0\n",
    "    for i in range(0,trials):\n",
    "        pop_time = branching_process(lam,n)\n",
    "        if ifextinct(pop_time):\n",
    "            results += 1\n",
    "    return float(results)/trials\n",
    "\n",
    "print ('Probability of extinction:',prob_extinction(4))\n"
   ]
  },
  {
   "cell_type": "code",
   "execution_count": 36,
   "id": "45f1afb8",
   "metadata": {},
   "outputs": [
    {
     "name": "stdout",
     "output_type": "stream",
     "text": [
      "[1, 2, 3, 3, 3, 3, 3, 6, 8, 11]\n",
      "expectation of 10th generation= 57.6650390625\n",
      "Variance of 10th generation= 3267.591691017151\n",
      "Probability of extinction: 0.23\n"
     ]
    }
   ],
   "source": [
    "# simulate a binomial(n,p) branching process over n generations\n",
    "# return list of population size at each generation\n",
    "def branching_process1(n,p, gen):\n",
    "    Z = [1]\n",
    "    for i in range(1,gen):\n",
    "        x = 0\n",
    "        if Z[i-1] > 0:\n",
    "            for i in range(Z[i-1]):\n",
    "                x += np.random.binomial(n,p)\n",
    "        Z.append(x)\n",
    "    return Z\n",
    "\n",
    "print(branching_process1(3,0.5,10))\n",
    "mean_binom=pow(3*0.5,10)\n",
    "print('expectation of 10th generation=',mean_binom)\n",
    "var_binom = pow(3*0.5,9)*(pow(3*0.5,10)-1)*(3*0.5*0.5)/((3*0.5)-1)\n",
    "print('Variance of 10th generation=',var_binom)\n",
    "\n",
    "def ifextinct1(Z):\n",
    "    final_pop = Z[len(Z)-1]\n",
    "    if final_pop == 0:\n",
    "        return True\n",
    "    return False\n",
    "\n",
    "def prob_extinction1(n,p):\n",
    "    n1 = 10\n",
    "    trials = 1000\n",
    "    results = 0\n",
    "    for i in range(0,trials):\n",
    "        pop_time = branching_process1(n,p,n1)\n",
    "        if ifextinct1(pop_time):\n",
    "            results += 1\n",
    "    return float(results)/trials\n",
    "\n",
    "print ('Probability of extinction:',prob_extinction1(3,0.5))\n"
   ]
  },
  {
   "cell_type": "code",
   "execution_count": 38,
   "id": "caf606f7",
   "metadata": {},
   "outputs": [
    {
     "name": "stdout",
     "output_type": "stream",
     "text": [
      "[1, 1, 1, 1, 1, 1, 2, 3, 6, 10]\n",
      "expectation of 10th generation= 165.3817168792021\n",
      "Variance of 10th generation= 27185.730561033353\n",
      "Probability of extinction: 0.0\n"
     ]
    }
   ],
   "source": [
    "# simulate a geometric(p1) branching process over n generations\n",
    "# return list of population size at each generation\n",
    "def branching_process2(p1, gen):\n",
    "    Z = [1]\n",
    "    for i in range(1,gen):\n",
    "        x = 0\n",
    "        if Z[i-1] > 0:\n",
    "            for i in range(Z[i-1]):\n",
    "                x += np.random.geometric(p1)\n",
    "        Z.append(x)\n",
    "    return Z\n",
    "\n",
    "print(branching_process2(0.6,10))\n",
    "mean_geom=1/(pow(0.6,10))\n",
    "print('expectation of 10th generation=',mean_geom)\n",
    "var_geom = pow((1/0.6),9)*(pow((1/0.6),10)-1)*(0.4/(0.6*0.6))/((1/0.6)-1)\n",
    "print('Variance of 10th generation=',var_geom)\n",
    "\n",
    "def ifextinct2(Z):\n",
    "    final_pop = Z[len(Z)-1]\n",
    "    if final_pop == 0:\n",
    "        return True\n",
    "    return False\n",
    "\n",
    "def prob_extinction2(p1):\n",
    "    n = 10\n",
    "    trials = 1000\n",
    "    results = 0\n",
    "    for i in range(0,trials):\n",
    "        pop_time = branching_process2(p1,n)\n",
    "        if ifextinct2(pop_time):\n",
    "            results += 1\n",
    "    return float(results)/trials\n",
    "\n",
    "\n",
    "print ('Probability of extinction:',prob_extinction2(0.6))"
   ]
  },
  {
   "cell_type": "code",
   "execution_count": 7,
   "id": "4afb9983",
   "metadata": {},
   "outputs": [
    {
     "name": "stdout",
     "output_type": "stream",
     "text": [
      "       s    G(s)\n",
      "0   0.00  0.1600\n",
      "1   0.05  0.1849\n",
      "2   0.10  0.2116\n",
      "3   0.15  0.2401\n",
      "4   0.20  0.2704\n",
      "5   0.25  0.3025\n",
      "6   0.30  0.3364\n",
      "7   0.35  0.3721\n",
      "8   0.40  0.4096\n",
      "9   0.45  0.4489\n",
      "10  0.50  0.4900\n",
      "11  0.55  0.5329\n",
      "12  0.60  0.5776\n",
      "13  0.65  0.6241\n",
      "14  0.70  0.6724\n",
      "15  0.75  0.7225\n",
      "16  0.80  0.7744\n",
      "17  0.85  0.8281\n",
      "18  0.90  0.8836\n",
      "19  0.95  0.9409\n",
      "20  1.00  1.0000\n"
     ]
    },
    {
     "data": {
      "text/plain": [
       "Text(0.5, 1.0, 's VS G(s)')"
      ]
     },
     "execution_count": 7,
     "metadata": {},
     "output_type": "execute_result"
    },
    {
     "data": {
      "image/png": "[encoded data removed]",
      "text/plain": [
       "<Figure size 432x288 with 1 Axes>"
      ]
     },
     "metadata": {
      "needs_background": "light"
     },
     "output_type": "display_data"
    }
   ],
   "source": [
    "s=np.arange(0,1.05,.05)\n",
    "df = pd.DataFrame(data=s, index=None, columns=['s'])\n",
    "df\n",
    "df['G(s)'] = \"\"\n",
    "df\n",
    "\n",
    "df['G(s)'] = ((4/25)+(12*s/25)+(9*(s*s))/25)\n",
    "print (df)\n",
    "plt.plot(s,df)\n",
    "plt.title('s VS G(s)')\n"
   ]
  },
  {
   "cell_type": "code",
   "execution_count": 8,
   "id": "52c8a3e7",
   "metadata": {},
   "outputs": [
    {
     "name": "stdout",
     "output_type": "stream",
     "text": [
      "       A         B\n",
      "0   0.00  0.125000\n",
      "1   0.05  0.144703\n",
      "2   0.10  0.166375\n",
      "3   0.15  0.190109\n",
      "4   0.20  0.216000\n",
      "5   0.25  0.244141\n",
      "6   0.30  0.274625\n",
      "7   0.35  0.307547\n",
      "8   0.40  0.343000\n",
      "9   0.45  0.381078\n",
      "10  0.50  0.421875\n",
      "11  0.55  0.465484\n",
      "12  0.60  0.512000\n",
      "13  0.65  0.561516\n",
      "14  0.70  0.614125\n",
      "15  0.75  0.669922\n",
      "16  0.80  0.729000\n",
      "17  0.85  0.791453\n",
      "18  0.90  0.857375\n",
      "19  0.95  0.926859\n",
      "20  1.00  1.000000\n"
     ]
    },
    {
     "data": {
      "text/plain": [
       "Text(0.5, 1.0, 's VS G(s)')"
      ]
     },
     "execution_count": 8,
     "metadata": {},
     "output_type": "execute_result"
    },
    {
     "data": {
      "image/png": "[encoded data removed]",
      "text/plain": [
       "<Figure size 432x288 with 1 Axes>"
      ]
     },
     "metadata": {
      "needs_background": "light"
     },
     "output_type": "display_data"
    }
   ],
   "source": [
    "df1 = pd.DataFrame(data=s, index=None, columns=['A'])\n",
    "df1\n",
    "df1['B'] = \"\"\n",
    "df1\n",
    "#Binomial\n",
    "df1['B'] = ((0.5+0.5*s)*(0.5+0.5*s)*(0.5+0.5*s))\n",
    "print (df1)\n",
    "plt.plot(s,df1)\n",
    "\n",
    "plt.title('s VS G(s)')"
   ]
  },
  {
   "cell_type": "code",
   "execution_count": 9,
   "id": "c8a50f41",
   "metadata": {},
   "outputs": [
    {
     "name": "stdout",
     "output_type": "stream",
     "text": [
      "       s      G(s)\n",
      "0   0.00  0.000000\n",
      "1   0.05  0.030612\n",
      "2   0.10  0.062500\n",
      "3   0.15  0.095745\n",
      "4   0.20  0.130435\n",
      "5   0.25  0.166667\n",
      "6   0.30  0.204545\n",
      "7   0.35  0.244186\n",
      "8   0.40  0.285714\n",
      "9   0.45  0.329268\n",
      "10  0.50  0.375000\n",
      "11  0.55  0.423077\n",
      "12  0.60  0.473684\n",
      "13  0.65  0.527027\n",
      "14  0.70  0.583333\n",
      "15  0.75  0.642857\n",
      "16  0.80  0.705882\n",
      "17  0.85  0.772727\n",
      "18  0.90  0.843750\n",
      "19  0.95  0.919355\n",
      "20  1.00  1.000000\n"
     ]
    },
    {
     "data": {
      "text/plain": [
       "Text(0.5, 1.0, 's VS G(s)')"
      ]
     },
     "execution_count": 9,
     "metadata": {},
     "output_type": "execute_result"
    },
    {
     "data": {
      "image/png": "[encoded data removed]",
      "text/plain": [
       "<Figure size 432x288 with 1 Axes>"
      ]
     },
     "metadata": {
      "needs_background": "light"
     },
     "output_type": "display_data"
    }
   ],
   "source": [
    "\n",
    "df2 = pd.DataFrame(data=s, index=None, columns=['s'])\n",
    "df2\n",
    "df2['G(s)'] = \"\"\n",
    "df2\n",
    "#Geometric\n",
    "df2['G(s)'] = (0.6*s/(1-0.4*s))\n",
    "        \n",
    "print (df2)\n",
    "plt.plot(s,df2)\n",
    "\n",
    "plt.title('s VS G(s)')"
   ]
  },
  {
   "cell_type": "code",
   "execution_count": 10,
   "id": "36d1263f",
   "metadata": {},
   "outputs": [
    {
     "name": "stdout",
     "output_type": "stream",
     "text": [
      "       s      G(s)\n",
      "0   0.00  0.018316\n",
      "1   0.05  0.022371\n",
      "2   0.10  0.027324\n",
      "3   0.15  0.033373\n",
      "4   0.20  0.040762\n",
      "5   0.25  0.049787\n",
      "6   0.30  0.060810\n",
      "7   0.35  0.074274\n",
      "8   0.40  0.090718\n",
      "9   0.45  0.110803\n",
      "10  0.50  0.135335\n",
      "11  0.55  0.165299\n",
      "12  0.60  0.201897\n",
      "13  0.65  0.246597\n",
      "14  0.70  0.301194\n",
      "15  0.75  0.367879\n",
      "16  0.80  0.449329\n",
      "17  0.85  0.548812\n",
      "18  0.90  0.670320\n",
      "19  0.95  0.818731\n",
      "20  1.00  1.000000\n"
     ]
    },
    {
     "data": {
      "text/plain": [
       "Text(0.5, 1.0, 's VS G(s)')"
      ]
     },
     "execution_count": 10,
     "metadata": {},
     "output_type": "execute_result"
    },
    {
     "data": {
      "image/png": "[encoded data removed]",
      "text/plain": [
       "<Figure size 432x288 with 1 Axes>"
      ]
     },
     "metadata": {
      "needs_background": "light"
     },
     "output_type": "display_data"
    }
   ],
   "source": [
    "\n",
    "df3 = pd.DataFrame(data=s, index=None, columns=['s'])\n",
    "df3\n",
    "df3['G(s)'] = \"\"\n",
    "df3\n",
    "#poisson\n",
    "df3['G(s)']= (np.exp(4*(s-1)))\n",
    "        \n",
    "print (df3)\n",
    "plt.plot(s,df3)\n",
    "\n",
    "plt.title('s VS G(s)')"
   ]
  },
  {
   "cell_type": "code",
   "execution_count": null,
   "id": "d21aebf5",
   "metadata": {},
   "outputs": [],
   "source": []
  }
 ],
 "metadata": {
  "kernelspec": {
   "display_name": "Python 3",
   "language": "python",
   "name": "python3"
  },
  "language_info": {
   "codemirror_mode": {
    "name": "ipython",
    "version": 3
   },
   "file_extension": ".py",
   "mimetype": "text/x-python",
   "name": "python",
   "nbconvert_exporter": "python",
   "pygments_lexer": "ipython3",
   "version": "3.8.8"
  }
 },
 "nbformat": 4,
 "nbformat_minor": 5
}
